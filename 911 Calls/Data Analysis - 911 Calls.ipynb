{
 "cells": [
  {
   "cell_type": "markdown",
   "metadata": {},
   "source": [
    "# 911 Calls Capstone Project"
   ]
  },
  {
   "cell_type": "markdown",
   "metadata": {},
   "source": [
    "Here you can find a few analysis for some 911 call data from [Kaggle](https://www.kaggle.com/mchirico/montcoalert)\n",
    "\n",
    "Description of the data:\n",
    "\n",
    "* lat : String variable, Latitude\n",
    "* lng: String variable, Longitude\n",
    "* desc: String variable, Description of the Emergency Call\n",
    "* zip: String variable, Zipcode\n",
    "* title: String variable, Title\n",
    "* timeStamp: String variable, YYYY-MM-DD HH:MM:SS\n",
    "* twp: String variable, Township\n",
    "* addr: String variable, Address\n",
    "* e: String variable, Dummy variable (always 1)"
   ]
  },
  {
   "cell_type": "code",
   "execution_count": 55,
   "metadata": {},
   "outputs": [],
   "source": [
    "# Helper class to format text on print statements\n",
    "\n",
    "class color:\n",
    "   PURPLE = '\\033[95m'\n",
    "   CYAN = '\\033[96m'\n",
    "   DARKCYAN = '\\033[36m'\n",
    "   BLUE = '\\033[94m'\n",
    "   GREEN = '\\033[92m'\n",
    "   YELLOW = '\\033[93m'\n",
    "   RED = '\\033[91m'\n",
    "   BOLD = '\\033[1m'\n",
    "   UNDERLINE = '\\033[4m'\n",
    "   END = '\\033[0m'"
   ]
  },
  {
   "cell_type": "markdown",
   "metadata": {},
   "source": [
    "## Dependencies"
   ]
  },
  {
   "cell_type": "markdown",
   "metadata": {},
   "source": [
    "For this notebook, we have the following dependencies:\n",
    "- Numpy\n",
    "- Pandas\n",
    "- Matplotlib\n",
    "- Seaborn\n",
    "\n",
    "If you don't have them installed, you can use the following commands on your terminal to install them:\n",
    "- Numpy:\n",
    "    - pip install numpy\n",
    "    \n",
    "- Pandas:\n",
    "    - pip install pandas\n",
    "    \n",
    "- Matplotlib:\n",
    "    - pip install matplotlib\n",
    "    \n",
    "- Seaborn:\n",
    "    - pip install seaborn"
   ]
  },
  {
   "cell_type": "markdown",
   "metadata": {},
   "source": [
    "## Import and Configuration"
   ]
  },
  {
   "cell_type": "markdown",
   "metadata": {},
   "source": [
    "Import numpy and pandas"
   ]
  },
  {
   "cell_type": "code",
   "execution_count": 1,
   "metadata": {},
   "outputs": [],
   "source": [
    "import numpy as np\n",
    "import pandas as pd"
   ]
  },
  {
   "cell_type": "markdown",
   "metadata": {},
   "source": [
    "Import visualization libraries and set %matplotlib inline"
   ]
  },
  {
   "cell_type": "code",
   "execution_count": 2,
   "metadata": {},
   "outputs": [],
   "source": [
    "import matplotlib.pyplot as plt\n",
    "import seaborn as sns\n",
    "sns.set_style('whitegrid')\n",
    "%matplotlib inline"
   ]
  },
  {
   "cell_type": "markdown",
   "metadata": {},
   "source": [
    "Read in the csv file as a dataframe"
   ]
  },
  {
   "cell_type": "code",
   "execution_count": 3,
   "metadata": {},
   "outputs": [],
   "source": [
    "df = pd.read_csv(\"911.csv\")"
   ]
  },
  {
   "cell_type": "markdown",
   "metadata": {},
   "source": [
    "Check the dataframe's information"
   ]
  },
  {
   "cell_type": "code",
   "execution_count": 4,
   "metadata": {},
   "outputs": [
    {
     "name": "stdout",
     "output_type": "stream",
     "text": [
      "<class 'pandas.core.frame.DataFrame'>\n",
      "RangeIndex: 99492 entries, 0 to 99491\n",
      "Data columns (total 9 columns):\n",
      " #   Column     Non-Null Count  Dtype  \n",
      "---  ------     --------------  -----  \n",
      " 0   lat        99492 non-null  float64\n",
      " 1   lng        99492 non-null  float64\n",
      " 2   desc       99492 non-null  object \n",
      " 3   zip        86637 non-null  float64\n",
      " 4   title      99492 non-null  object \n",
      " 5   timeStamp  99492 non-null  object \n",
      " 6   twp        99449 non-null  object \n",
      " 7   addr       98973 non-null  object \n",
      " 8   e          99492 non-null  int64  \n",
      "dtypes: float64(3), int64(1), object(5)\n",
      "memory usage: 6.8+ MB\n"
     ]
    }
   ],
   "source": [
    "df.info()"
   ]
  },
  {
   "cell_type": "markdown",
   "metadata": {},
   "source": [
    "Have a first look at the dataframe"
   ]
  },
  {
   "cell_type": "code",
   "execution_count": 5,
   "metadata": {},
   "outputs": [
    {
     "data": {
      "text/html": [
       "<div>\n",
       "<style scoped>\n",
       "    .dataframe tbody tr th:only-of-type {\n",
       "        vertical-align: middle;\n",
       "    }\n",
       "\n",
       "    .dataframe tbody tr th {\n",
       "        vertical-align: top;\n",
       "    }\n",
       "\n",
       "    .dataframe thead th {\n",
       "        text-align: right;\n",
       "    }\n",
       "</style>\n",
       "<table border=\"1\" class=\"dataframe\">\n",
       "  <thead>\n",
       "    <tr style=\"text-align: right;\">\n",
       "      <th></th>\n",
       "      <th>lat</th>\n",
       "      <th>lng</th>\n",
       "      <th>desc</th>\n",
       "      <th>zip</th>\n",
       "      <th>title</th>\n",
       "      <th>timeStamp</th>\n",
       "      <th>twp</th>\n",
       "      <th>addr</th>\n",
       "      <th>e</th>\n",
       "    </tr>\n",
       "  </thead>\n",
       "  <tbody>\n",
       "    <tr>\n",
       "      <th>0</th>\n",
       "      <td>40.297876</td>\n",
       "      <td>-75.581294</td>\n",
       "      <td>REINDEER CT &amp; DEAD END;  NEW HANOVER; Station ...</td>\n",
       "      <td>19525.0</td>\n",
       "      <td>EMS: BACK PAINS/INJURY</td>\n",
       "      <td>2015-12-10 17:40:00</td>\n",
       "      <td>NEW HANOVER</td>\n",
       "      <td>REINDEER CT &amp; DEAD END</td>\n",
       "      <td>1</td>\n",
       "    </tr>\n",
       "    <tr>\n",
       "      <th>1</th>\n",
       "      <td>40.258061</td>\n",
       "      <td>-75.264680</td>\n",
       "      <td>BRIAR PATH &amp; WHITEMARSH LN;  HATFIELD TOWNSHIP...</td>\n",
       "      <td>19446.0</td>\n",
       "      <td>EMS: DIABETIC EMERGENCY</td>\n",
       "      <td>2015-12-10 17:40:00</td>\n",
       "      <td>HATFIELD TOWNSHIP</td>\n",
       "      <td>BRIAR PATH &amp; WHITEMARSH LN</td>\n",
       "      <td>1</td>\n",
       "    </tr>\n",
       "    <tr>\n",
       "      <th>2</th>\n",
       "      <td>40.121182</td>\n",
       "      <td>-75.351975</td>\n",
       "      <td>HAWS AVE; NORRISTOWN; 2015-12-10 @ 14:39:21-St...</td>\n",
       "      <td>19401.0</td>\n",
       "      <td>Fire: GAS-ODOR/LEAK</td>\n",
       "      <td>2015-12-10 17:40:00</td>\n",
       "      <td>NORRISTOWN</td>\n",
       "      <td>HAWS AVE</td>\n",
       "      <td>1</td>\n",
       "    </tr>\n",
       "    <tr>\n",
       "      <th>3</th>\n",
       "      <td>40.116153</td>\n",
       "      <td>-75.343513</td>\n",
       "      <td>AIRY ST &amp; SWEDE ST;  NORRISTOWN; Station 308A;...</td>\n",
       "      <td>19401.0</td>\n",
       "      <td>EMS: CARDIAC EMERGENCY</td>\n",
       "      <td>2015-12-10 17:40:01</td>\n",
       "      <td>NORRISTOWN</td>\n",
       "      <td>AIRY ST &amp; SWEDE ST</td>\n",
       "      <td>1</td>\n",
       "    </tr>\n",
       "    <tr>\n",
       "      <th>4</th>\n",
       "      <td>40.251492</td>\n",
       "      <td>-75.603350</td>\n",
       "      <td>CHERRYWOOD CT &amp; DEAD END;  LOWER POTTSGROVE; S...</td>\n",
       "      <td>NaN</td>\n",
       "      <td>EMS: DIZZINESS</td>\n",
       "      <td>2015-12-10 17:40:01</td>\n",
       "      <td>LOWER POTTSGROVE</td>\n",
       "      <td>CHERRYWOOD CT &amp; DEAD END</td>\n",
       "      <td>1</td>\n",
       "    </tr>\n",
       "  </tbody>\n",
       "</table>\n",
       "</div>"
      ],
      "text/plain": [
       "         lat        lng                                               desc  \\\n",
       "0  40.297876 -75.581294  REINDEER CT & DEAD END;  NEW HANOVER; Station ...   \n",
       "1  40.258061 -75.264680  BRIAR PATH & WHITEMARSH LN;  HATFIELD TOWNSHIP...   \n",
       "2  40.121182 -75.351975  HAWS AVE; NORRISTOWN; 2015-12-10 @ 14:39:21-St...   \n",
       "3  40.116153 -75.343513  AIRY ST & SWEDE ST;  NORRISTOWN; Station 308A;...   \n",
       "4  40.251492 -75.603350  CHERRYWOOD CT & DEAD END;  LOWER POTTSGROVE; S...   \n",
       "\n",
       "       zip                    title            timeStamp                twp  \\\n",
       "0  19525.0   EMS: BACK PAINS/INJURY  2015-12-10 17:40:00        NEW HANOVER   \n",
       "1  19446.0  EMS: DIABETIC EMERGENCY  2015-12-10 17:40:00  HATFIELD TOWNSHIP   \n",
       "2  19401.0      Fire: GAS-ODOR/LEAK  2015-12-10 17:40:00         NORRISTOWN   \n",
       "3  19401.0   EMS: CARDIAC EMERGENCY  2015-12-10 17:40:01         NORRISTOWN   \n",
       "4      NaN           EMS: DIZZINESS  2015-12-10 17:40:01   LOWER POTTSGROVE   \n",
       "\n",
       "                         addr  e  \n",
       "0      REINDEER CT & DEAD END  1  \n",
       "1  BRIAR PATH & WHITEMARSH LN  1  \n",
       "2                    HAWS AVE  1  \n",
       "3          AIRY ST & SWEDE ST  1  \n",
       "4    CHERRYWOOD CT & DEAD END  1  "
      ]
     },
     "execution_count": 5,
     "metadata": {},
     "output_type": "execute_result"
    }
   ],
   "source": [
    "df.head()"
   ]
  },
  {
   "cell_type": "markdown",
   "metadata": {},
   "source": [
    "## Quick Insights"
   ]
  },
  {
   "cell_type": "code",
   "execution_count": 15,
   "metadata": {},
   "outputs": [
    {
     "name": "stdout",
     "output_type": "stream",
     "text": [
      "\u001b[1mTop 5 zipcodes:\u001b[0m\n",
      "\n",
      "19401.0    6979\n",
      "19464.0    6643\n",
      "19403.0    4854\n",
      "19446.0    4748\n",
      "19406.0    3174\n",
      "Name: zip, dtype: int64\n",
      "\n",
      "\u001b[1mTop 5 townships:\u001b[0m\n",
      "\n",
      "LOWER MERION    8443\n",
      "ABINGTON        5977\n",
      "NORRISTOWN      5890\n",
      "UPPER MERION    5227\n",
      "CHELTENHAM      4575\n",
      "Name: twp, dtype: int64\n",
      "\n",
      "\u001b[1mUnique call titles:\u001b[0m\n",
      "\n",
      "110\n"
     ]
    }
   ],
   "source": [
    "print(\"{}Top 5 zipcodes:{}\\n\\n{}\\n\".format(color.BOLD, color.END, df['zip'].value_counts().head(5)))\n",
    "\n",
    "print(\"{}Top 5 townships:{}\\n\\n{}\\n\".format(color.BOLD, color.END, df['twp'].value_counts().head(5)))\n",
    "\n",
    "print(\"{}Unique call titles:{}\\n\\n{}\".format(color.BOLD, color.END, df['title'].nunique()))\n"
   ]
  },
  {
   "cell_type": "markdown",
   "metadata": {},
   "source": [
    "## Processing"
   ]
  },
  {
   "cell_type": "markdown",
   "metadata": {},
   "source": [
    "### Add features"
   ]
  },
  {
   "cell_type": "markdown",
   "metadata": {},
   "source": [
    "In the titles column there are \"Reasons/Departments\" specified before the title code. These are EMS, Fire, and Traffic. A new column will be created to store these identifiers.\n",
    "\n",
    "To achieve this, a new column will be created applying a lambda function on the 'title' column where each value will be splitted using ':' as separator, and the value on the index 0 will be stored.\n",
    "\n",
    "Example: *if the title column value is **EMS: BACK PAINS/INJURY** , the 'reason' column value would be **EMS**.*"
   ]
  },
  {
   "cell_type": "code",
   "execution_count": 17,
   "metadata": {},
   "outputs": [
    {
     "data": {
      "text/plain": [
       "0     EMS\n",
       "1     EMS\n",
       "2    Fire\n",
       "3     EMS\n",
       "4     EMS\n",
       "Name: reason, dtype: object"
      ]
     },
     "execution_count": 17,
     "metadata": {},
     "output_type": "execute_result"
    }
   ],
   "source": [
    "df['reason'] = df['title'].apply(lambda x: x.split(':')[0])\n",
    "\n",
    "# Show first 5 rows as an example.\n",
    "df['reason'].head(5)"
   ]
  },
  {
   "cell_type": "markdown",
   "metadata": {},
   "source": [
    "Probably, we would want to use the timestamps for further exploration.\n",
    "\n",
    "If we want to proceed, we will need to convert the column 'timeStamps' into a datetime type.\n",
    "\n",
    "Currently, the type of the 'timeStamp' column is object."
   ]
  },
  {
   "cell_type": "code",
   "execution_count": 18,
   "metadata": {},
   "outputs": [
    {
     "name": "stdout",
     "output_type": "stream",
     "text": [
      "\u001b[1mType of 'timeStamp' column:\u001b[0m\n",
      "\n",
      "object\n"
     ]
    }
   ],
   "source": [
    "print(\"{}Type of 'timeStamp' column:{}\\n\\n{}\".format(color.BOLD, color.END, df['timeStamp'].dtypes))"
   ]
  },
  {
   "cell_type": "markdown",
   "metadata": {},
   "source": [
    "To convert from object to datetime, we will use [pd.to_datetime](http://pandas.pydata.org/pandas-docs/stable/generated/pandas.to_datetime.html)"
   ]
  },
  {
   "cell_type": "code",
   "execution_count": 19,
   "metadata": {},
   "outputs": [],
   "source": [
    "df['timeStamp'] = pd.to_datetime(df['timeStamp'])"
   ]
  },
  {
   "cell_type": "markdown",
   "metadata": {},
   "source": [
    "Now that we have proper datetime values on 'timeStamp', let's add some extra columns 'hour', 'month', and 'day of week' that will give us information that we will use later on.\n",
    "\n",
    "To achieve this, we will use some lambda functions again, and a dictionary to do some mapping of the 'day of week' values."
   ]
  },
  {
   "cell_type": "code",
   "execution_count": 86,
   "metadata": {},
   "outputs": [],
   "source": [
    "df['hour'] = df['timeStamp'].apply(lambda x: x.hour)\n",
    "\n",
    "df['month'] = df['timeStamp'].apply(lambda x: x.month)\n",
    "\n",
    "df['day of week'] = df['timeStamp'].apply(lambda x: x.dayofweek).map({\n",
    "    0:'Mon',\n",
    "    1:'Tue',\n",
    "    2:'Wed',\n",
    "    3:'Thu',\n",
    "    4:'Fri',\n",
    "    5:'Sat',\n",
    "    6:'Sun'\n",
    "})"
   ]
  },
  {
   "cell_type": "code",
   "execution_count": 87,
   "metadata": {},
   "outputs": [
    {
     "name": "stdout",
     "output_type": "stream",
     "text": [
      "\u001b[1mExamples for the column 'hour':\u001b[0m\n",
      "\n",
      "0        17\n",
      "1        17\n",
      "2        17\n",
      "3        17\n",
      "4        17\n",
      "         ..\n",
      "99487    11\n",
      "99488    11\n",
      "99489    11\n",
      "99490    11\n",
      "99491    11\n",
      "Name: hour, Length: 99492, dtype: int64\n",
      "\n",
      "\u001b[1mExamples for the column 'month':\u001b[0m\n",
      "\n",
      "0        12\n",
      "1        12\n",
      "2        12\n",
      "3        12\n",
      "4        12\n",
      "         ..\n",
      "99487     8\n",
      "99488     8\n",
      "99489     8\n",
      "99490     8\n",
      "99491     8\n",
      "Name: month, Length: 99492, dtype: int64\n",
      "\n",
      "\u001b[1mExamples for the column 'day of week':\u001b[0m\n",
      "\n",
      "0        Thu\n",
      "1        Thu\n",
      "2        Thu\n",
      "3        Thu\n",
      "4        Thu\n",
      "        ... \n",
      "99487    Wed\n",
      "99488    Wed\n",
      "99489    Wed\n",
      "99490    Wed\n",
      "99491    Wed\n",
      "Name: day of week, Length: 99492, dtype: object\n",
      "\n"
     ]
    }
   ],
   "source": [
    "print(\"{}Examples for the column 'hour':{}\\n\\n{}\\n\".format(color.BOLD, color.END, df['hour']))\n",
    "\n",
    "print(\"{}Examples for the column 'month':{}\\n\\n{}\\n\".format(color.BOLD, color.END, df['month']))\n",
    "\n",
    "print(\"{}Examples for the column 'day of week':{}\\n\\n{}\\n\".format(color.BOLD, color.END, df['day of week']))"
   ]
  },
  {
   "cell_type": "markdown",
   "metadata": {},
   "source": [
    "## Visualization"
   ]
  },
  {
   "cell_type": "markdown",
   "metadata": {},
   "source": [
    "Now that we have worked a little with the data, let's try to visualize some of it."
   ]
  },
  {
   "cell_type": "markdown",
   "metadata": {},
   "source": [
    "First, let's plot a count for 'reason':"
   ]
  },
  {
   "cell_type": "code",
   "execution_count": 88,
   "metadata": {},
   "outputs": [
    {
     "data": {
      "image/png": "[encoded data removed]",
      "text/plain": [
       "<Figure size 432x288 with 1 Axes>"
      ]
     },
     "metadata": {
      "needs_background": "light"
     },
     "output_type": "display_data"
    }
   ],
   "source": [
    "sns.countplot(x='reason',data=df)\n",
    "\n",
    "# To set up a title\n",
    "plt.title('Call reasons')\n",
    "\n",
    "plt.tight_layout()"
   ]
  },
  {
   "cell_type": "markdown",
   "metadata": {},
   "source": [
    "And now let's try it a little bit more specific:\n",
    "\n",
    "### Call reasons by day of week"
   ]
  },
  {
   "cell_type": "code",
   "execution_count": 89,
   "metadata": {},
   "outputs": [
    {
     "data": {
      "image/png": "[encoded data removed]",
      "text/plain": [
       "<Figure size 432x288 with 1 Axes>"
      ]
     },
     "metadata": {
      "needs_background": "light"
     },
     "output_type": "display_data"
    }
   ],
   "source": [
    "sns.countplot(x='day of week', data=df, hue='reason')\n",
    "\n",
    "# To set up a title\n",
    "plt.title('Call reasons by day of week')\n",
    "\n",
    "# To relocate the legend\n",
    "plt.legend(bbox_to_anchor=(1.05, 1), loc=2, borderaxespad=0.)\n",
    "\n",
    "plt.tight_layout()"
   ]
  },
  {
   "cell_type": "markdown",
   "metadata": {},
   "source": [
    "### Call reasons by month"
   ]
  },
  {
   "cell_type": "code",
   "execution_count": 90,
   "metadata": {},
   "outputs": [
    {
     "data": {
      "image/png": "[encoded data removed]",
      "text/plain": [
       "<Figure size 432x288 with 1 Axes>"
      ]
     },
     "metadata": {
      "needs_background": "light"
     },
     "output_type": "display_data"
    }
   ],
   "source": [
    "sns.countplot(x='month', data=df, hue=\"reason\")\n",
    "\n",
    "# To set up a title\n",
    "plt.title('Call reasons by month')\n",
    "\n",
    "# To relocate the legend\n",
    "plt.legend(bbox_to_anchor=(1.05, 1), loc=2, borderaxespad=0.)\n",
    "\n",
    "plt.tight_layout()"
   ]
  },
  {
   "cell_type": "markdown",
   "metadata": {},
   "source": [
    "What about some heatmaps? Let's try it!"
   ]
  },
  {
   "cell_type": "markdown",
   "metadata": {},
   "source": [
    "### EMS for each day of week and hour"
   ]
  },
  {
   "cell_type": "code",
   "execution_count": 93,
   "metadata": {},
   "outputs": [
    {
     "data": {
      "text/html": [
       "<div>\n",
       "<style scoped>\n",
       "    .dataframe tbody tr th:only-of-type {\n",
       "        vertical-align: middle;\n",
       "    }\n",
       "\n",
       "    .dataframe tbody tr th {\n",
       "        vertical-align: top;\n",
       "    }\n",
       "\n",
       "    .dataframe thead th {\n",
       "        text-align: right;\n",
       "    }\n",
       "</style>\n",
       "<table border=\"1\" class=\"dataframe\">\n",
       "  <thead>\n",
       "    <tr style=\"text-align: right;\">\n",
       "      <th>hour</th>\n",
       "      <th>0</th>\n",
       "      <th>1</th>\n",
       "      <th>2</th>\n",
       "      <th>3</th>\n",
       "      <th>4</th>\n",
       "      <th>5</th>\n",
       "      <th>6</th>\n",
       "      <th>7</th>\n",
       "      <th>8</th>\n",
       "      <th>9</th>\n",
       "      <th>...</th>\n",
       "      <th>14</th>\n",
       "      <th>15</th>\n",
       "      <th>16</th>\n",
       "      <th>17</th>\n",
       "      <th>18</th>\n",
       "      <th>19</th>\n",
       "      <th>20</th>\n",
       "      <th>21</th>\n",
       "      <th>22</th>\n",
       "      <th>23</th>\n",
       "    </tr>\n",
       "    <tr>\n",
       "      <th>day of week</th>\n",
       "      <th></th>\n",
       "      <th></th>\n",
       "      <th></th>\n",
       "      <th></th>\n",
       "      <th></th>\n",
       "      <th></th>\n",
       "      <th></th>\n",
       "      <th></th>\n",
       "      <th></th>\n",
       "      <th></th>\n",
       "      <th></th>\n",
       "      <th></th>\n",
       "      <th></th>\n",
       "      <th></th>\n",
       "      <th></th>\n",
       "      <th></th>\n",
       "      <th></th>\n",
       "      <th></th>\n",
       "      <th></th>\n",
       "      <th></th>\n",
       "      <th></th>\n",
       "    </tr>\n",
       "  </thead>\n",
       "  <tbody>\n",
       "    <tr>\n",
       "      <th>Fri</th>\n",
       "      <td>159</td>\n",
       "      <td>158</td>\n",
       "      <td>136</td>\n",
       "      <td>128</td>\n",
       "      <td>139</td>\n",
       "      <td>121</td>\n",
       "      <td>192</td>\n",
       "      <td>256</td>\n",
       "      <td>333</td>\n",
       "      <td>380</td>\n",
       "      <td>...</td>\n",
       "      <td>462</td>\n",
       "      <td>386</td>\n",
       "      <td>415</td>\n",
       "      <td>369</td>\n",
       "      <td>377</td>\n",
       "      <td>359</td>\n",
       "      <td>350</td>\n",
       "      <td>301</td>\n",
       "      <td>274</td>\n",
       "      <td>247</td>\n",
       "    </tr>\n",
       "    <tr>\n",
       "      <th>Mon</th>\n",
       "      <td>178</td>\n",
       "      <td>149</td>\n",
       "      <td>134</td>\n",
       "      <td>138</td>\n",
       "      <td>151</td>\n",
       "      <td>155</td>\n",
       "      <td>221</td>\n",
       "      <td>287</td>\n",
       "      <td>366</td>\n",
       "      <td>408</td>\n",
       "      <td>...</td>\n",
       "      <td>409</td>\n",
       "      <td>362</td>\n",
       "      <td>425</td>\n",
       "      <td>375</td>\n",
       "      <td>342</td>\n",
       "      <td>355</td>\n",
       "      <td>293</td>\n",
       "      <td>250</td>\n",
       "      <td>258</td>\n",
       "      <td>191</td>\n",
       "    </tr>\n",
       "    <tr>\n",
       "      <th>Sat</th>\n",
       "      <td>215</td>\n",
       "      <td>169</td>\n",
       "      <td>166</td>\n",
       "      <td>167</td>\n",
       "      <td>138</td>\n",
       "      <td>149</td>\n",
       "      <td>157</td>\n",
       "      <td>203</td>\n",
       "      <td>264</td>\n",
       "      <td>322</td>\n",
       "      <td>...</td>\n",
       "      <td>359</td>\n",
       "      <td>353</td>\n",
       "      <td>384</td>\n",
       "      <td>354</td>\n",
       "      <td>362</td>\n",
       "      <td>344</td>\n",
       "      <td>349</td>\n",
       "      <td>298</td>\n",
       "      <td>245</td>\n",
       "      <td>219</td>\n",
       "    </tr>\n",
       "    <tr>\n",
       "      <th>Sun</th>\n",
       "      <td>219</td>\n",
       "      <td>177</td>\n",
       "      <td>166</td>\n",
       "      <td>174</td>\n",
       "      <td>142</td>\n",
       "      <td>126</td>\n",
       "      <td>175</td>\n",
       "      <td>212</td>\n",
       "      <td>269</td>\n",
       "      <td>339</td>\n",
       "      <td>...</td>\n",
       "      <td>342</td>\n",
       "      <td>333</td>\n",
       "      <td>320</td>\n",
       "      <td>347</td>\n",
       "      <td>293</td>\n",
       "      <td>354</td>\n",
       "      <td>298</td>\n",
       "      <td>262</td>\n",
       "      <td>241</td>\n",
       "      <td>207</td>\n",
       "    </tr>\n",
       "    <tr>\n",
       "      <th>Thu</th>\n",
       "      <td>158</td>\n",
       "      <td>122</td>\n",
       "      <td>162</td>\n",
       "      <td>114</td>\n",
       "      <td>128</td>\n",
       "      <td>133</td>\n",
       "      <td>172</td>\n",
       "      <td>252</td>\n",
       "      <td>323</td>\n",
       "      <td>389</td>\n",
       "      <td>...</td>\n",
       "      <td>387</td>\n",
       "      <td>407</td>\n",
       "      <td>351</td>\n",
       "      <td>367</td>\n",
       "      <td>375</td>\n",
       "      <td>349</td>\n",
       "      <td>331</td>\n",
       "      <td>288</td>\n",
       "      <td>235</td>\n",
       "      <td>206</td>\n",
       "    </tr>\n",
       "  </tbody>\n",
       "</table>\n",
       "<p>5 rows × 24 columns</p>\n",
       "</div>"
      ],
      "text/plain": [
       "hour          0    1    2    3    4    5    6    7    8    9   ...   14   15  \\\n",
       "day of week                                                    ...             \n",
       "Fri          159  158  136  128  139  121  192  256  333  380  ...  462  386   \n",
       "Mon          178  149  134  138  151  155  221  287  366  408  ...  409  362   \n",
       "Sat          215  169  166  167  138  149  157  203  264  322  ...  359  353   \n",
       "Sun          219  177  166  174  142  126  175  212  269  339  ...  342  333   \n",
       "Thu          158  122  162  114  128  133  172  252  323  389  ...  387  407   \n",
       "\n",
       "hour          16   17   18   19   20   21   22   23  \n",
       "day of week                                          \n",
       "Fri          415  369  377  359  350  301  274  247  \n",
       "Mon          425  375  342  355  293  250  258  191  \n",
       "Sat          384  354  362  344  349  298  245  219  \n",
       "Sun          320  347  293  354  298  262  241  207  \n",
       "Thu          351  367  375  349  331  288  235  206  \n",
       "\n",
       "[5 rows x 24 columns]"
      ]
     },
     "execution_count": 93,
     "metadata": {},
     "output_type": "execute_result"
    }
   ],
   "source": [
    "ems_day_hour = df[df['reason'] == 'EMS'].groupby(by=['day of week','hour']).count()['reason'].unstack()\n",
    "ems_day_hour.head()"
   ]
  },
  {
   "cell_type": "code",
   "execution_count": 94,
   "metadata": {},
   "outputs": [
    {
     "data": {
      "text/plain": [
       "Text(0.5, 1.0, 'EMS')"
      ]
     },
     "execution_count": 94,
     "metadata": {},
     "output_type": "execute_result"
    },
    {
     "data": {
      "image/png": "[encoded data removed]",
      "text/plain": [
       "<Figure size 864x432 with 2 Axes>"
      ]
     },
     "metadata": {
      "needs_background": "light"
     },
     "output_type": "display_data"
    }
   ],
   "source": [
    "# To set up figure's size\n",
    "plt.figure(figsize=(12,6))\n",
    "\n",
    "sns.heatmap(ems_day_hour,cmap='viridis', cbar_kws={'label': 'Number of calls'})\n",
    "\n",
    "# To set up a title\n",
    "plt.title('EMS')"
   ]
  },
  {
   "cell_type": "markdown",
   "metadata": {},
   "source": [
    "Quick knowledge that we can get for *Emergency Medical Services* (EMS):\n",
    "- Most of the calls come in during week days (Mon - Fri).\n",
    "- The peak time seems to be beween 10:00 and 14:00.\n",
    "- During week days (Mon - Fri) there are not many call during the night. This clearly changes on weekends, specifically between 23:00 and 03:00."
   ]
  },
  {
   "cell_type": "markdown",
   "metadata": {},
   "source": [
    "### Fire for each day of week and hour"
   ]
  },
  {
   "cell_type": "code",
   "execution_count": 95,
   "metadata": {},
   "outputs": [
    {
     "data": {
      "text/html": [
       "<div>\n",
       "<style scoped>\n",
       "    .dataframe tbody tr th:only-of-type {\n",
       "        vertical-align: middle;\n",
       "    }\n",
       "\n",
       "    .dataframe tbody tr th {\n",
       "        vertical-align: top;\n",
       "    }\n",
       "\n",
       "    .dataframe thead th {\n",
       "        text-align: right;\n",
       "    }\n",
       "</style>\n",
       "<table border=\"1\" class=\"dataframe\">\n",
       "  <thead>\n",
       "    <tr style=\"text-align: right;\">\n",
       "      <th>hour</th>\n",
       "      <th>0</th>\n",
       "      <th>1</th>\n",
       "      <th>2</th>\n",
       "      <th>3</th>\n",
       "      <th>4</th>\n",
       "      <th>5</th>\n",
       "      <th>6</th>\n",
       "      <th>7</th>\n",
       "      <th>8</th>\n",
       "      <th>9</th>\n",
       "      <th>...</th>\n",
       "      <th>14</th>\n",
       "      <th>15</th>\n",
       "      <th>16</th>\n",
       "      <th>17</th>\n",
       "      <th>18</th>\n",
       "      <th>19</th>\n",
       "      <th>20</th>\n",
       "      <th>21</th>\n",
       "      <th>22</th>\n",
       "      <th>23</th>\n",
       "    </tr>\n",
       "    <tr>\n",
       "      <th>day of week</th>\n",
       "      <th></th>\n",
       "      <th></th>\n",
       "      <th></th>\n",
       "      <th></th>\n",
       "      <th></th>\n",
       "      <th></th>\n",
       "      <th></th>\n",
       "      <th></th>\n",
       "      <th></th>\n",
       "      <th></th>\n",
       "      <th></th>\n",
       "      <th></th>\n",
       "      <th></th>\n",
       "      <th></th>\n",
       "      <th></th>\n",
       "      <th></th>\n",
       "      <th></th>\n",
       "      <th></th>\n",
       "      <th></th>\n",
       "      <th></th>\n",
       "      <th></th>\n",
       "    </tr>\n",
       "  </thead>\n",
       "  <tbody>\n",
       "    <tr>\n",
       "      <th>Fri</th>\n",
       "      <td>45</td>\n",
       "      <td>23</td>\n",
       "      <td>23</td>\n",
       "      <td>27</td>\n",
       "      <td>28</td>\n",
       "      <td>26</td>\n",
       "      <td>48</td>\n",
       "      <td>89</td>\n",
       "      <td>108</td>\n",
       "      <td>111</td>\n",
       "      <td>...</td>\n",
       "      <td>126</td>\n",
       "      <td>121</td>\n",
       "      <td>135</td>\n",
       "      <td>134</td>\n",
       "      <td>140</td>\n",
       "      <td>100</td>\n",
       "      <td>106</td>\n",
       "      <td>76</td>\n",
       "      <td>73</td>\n",
       "      <td>72</td>\n",
       "    </tr>\n",
       "    <tr>\n",
       "      <th>Mon</th>\n",
       "      <td>39</td>\n",
       "      <td>31</td>\n",
       "      <td>35</td>\n",
       "      <td>20</td>\n",
       "      <td>29</td>\n",
       "      <td>42</td>\n",
       "      <td>56</td>\n",
       "      <td>79</td>\n",
       "      <td>109</td>\n",
       "      <td>102</td>\n",
       "      <td>...</td>\n",
       "      <td>123</td>\n",
       "      <td>138</td>\n",
       "      <td>126</td>\n",
       "      <td>157</td>\n",
       "      <td>178</td>\n",
       "      <td>142</td>\n",
       "      <td>128</td>\n",
       "      <td>76</td>\n",
       "      <td>75</td>\n",
       "      <td>56</td>\n",
       "    </tr>\n",
       "    <tr>\n",
       "      <th>Sat</th>\n",
       "      <td>56</td>\n",
       "      <td>49</td>\n",
       "      <td>32</td>\n",
       "      <td>29</td>\n",
       "      <td>34</td>\n",
       "      <td>32</td>\n",
       "      <td>34</td>\n",
       "      <td>56</td>\n",
       "      <td>61</td>\n",
       "      <td>99</td>\n",
       "      <td>...</td>\n",
       "      <td>115</td>\n",
       "      <td>133</td>\n",
       "      <td>127</td>\n",
       "      <td>117</td>\n",
       "      <td>146</td>\n",
       "      <td>133</td>\n",
       "      <td>100</td>\n",
       "      <td>102</td>\n",
       "      <td>85</td>\n",
       "      <td>92</td>\n",
       "    </tr>\n",
       "    <tr>\n",
       "      <th>Sun</th>\n",
       "      <td>61</td>\n",
       "      <td>46</td>\n",
       "      <td>41</td>\n",
       "      <td>33</td>\n",
       "      <td>31</td>\n",
       "      <td>58</td>\n",
       "      <td>40</td>\n",
       "      <td>79</td>\n",
       "      <td>102</td>\n",
       "      <td>104</td>\n",
       "      <td>...</td>\n",
       "      <td>109</td>\n",
       "      <td>124</td>\n",
       "      <td>111</td>\n",
       "      <td>123</td>\n",
       "      <td>135</td>\n",
       "      <td>117</td>\n",
       "      <td>98</td>\n",
       "      <td>80</td>\n",
       "      <td>65</td>\n",
       "      <td>59</td>\n",
       "    </tr>\n",
       "    <tr>\n",
       "      <th>Thu</th>\n",
       "      <td>43</td>\n",
       "      <td>33</td>\n",
       "      <td>24</td>\n",
       "      <td>28</td>\n",
       "      <td>26</td>\n",
       "      <td>25</td>\n",
       "      <td>48</td>\n",
       "      <td>59</td>\n",
       "      <td>86</td>\n",
       "      <td>113</td>\n",
       "      <td>...</td>\n",
       "      <td>135</td>\n",
       "      <td>134</td>\n",
       "      <td>120</td>\n",
       "      <td>142</td>\n",
       "      <td>127</td>\n",
       "      <td>127</td>\n",
       "      <td>110</td>\n",
       "      <td>97</td>\n",
       "      <td>70</td>\n",
       "      <td>47</td>\n",
       "    </tr>\n",
       "  </tbody>\n",
       "</table>\n",
       "<p>5 rows × 24 columns</p>\n",
       "</div>"
      ],
      "text/plain": [
       "hour         0   1   2   3   4   5   6   7    8    9   ...   14   15   16  \\\n",
       "day of week                                            ...                  \n",
       "Fri          45  23  23  27  28  26  48  89  108  111  ...  126  121  135   \n",
       "Mon          39  31  35  20  29  42  56  79  109  102  ...  123  138  126   \n",
       "Sat          56  49  32  29  34  32  34  56   61   99  ...  115  133  127   \n",
       "Sun          61  46  41  33  31  58  40  79  102  104  ...  109  124  111   \n",
       "Thu          43  33  24  28  26  25  48  59   86  113  ...  135  134  120   \n",
       "\n",
       "hour          17   18   19   20   21  22  23  \n",
       "day of week                                   \n",
       "Fri          134  140  100  106   76  73  72  \n",
       "Mon          157  178  142  128   76  75  56  \n",
       "Sat          117  146  133  100  102  85  92  \n",
       "Sun          123  135  117   98   80  65  59  \n",
       "Thu          142  127  127  110   97  70  47  \n",
       "\n",
       "[5 rows x 24 columns]"
      ]
     },
     "execution_count": 95,
     "metadata": {},
     "output_type": "execute_result"
    }
   ],
   "source": [
    "fire_day_hour = df[df['reason'] == 'Fire'].groupby(by=['day of week','hour']).count()['reason'].unstack()\n",
    "fire_day_hour.head()"
   ]
  },
  {
   "cell_type": "code",
   "execution_count": 96,
   "metadata": {},
   "outputs": [
    {
     "data": {
      "text/plain": [
       "Text(0.5, 1.0, 'Fire')"
      ]
     },
     "execution_count": 96,
     "metadata": {},
     "output_type": "execute_result"
    },
    {
     "data": {
      "image/png": "[encoded data removed]",
      "text/plain": [
       "<Figure size 864x432 with 2 Axes>"
      ]
     },
     "metadata": {
      "needs_background": "light"
     },
     "output_type": "display_data"
    }
   ],
   "source": [
    "# To set up figure's size\n",
    "plt.figure(figsize=(12,6))\n",
    "\n",
    "sns.heatmap(fire_day_hour,cmap='viridis', cbar_kws={'label': 'Number of calls'})\n",
    "\n",
    "# To set up a title\n",
    "plt.title('Fire')"
   ]
  },
  {
   "cell_type": "markdown",
   "metadata": {},
   "source": [
    "Quick knowledge that we can get for *Fires*:\n",
    "- Most of the calls were made in the afternoon.\n",
    "- There are no major differences between days, except for the spike on Mondays at 18:00.\n",
    "- During week days (Mon - Fri) there are not many call during the night. This clearly changes on weekends, specifically between 22:00 and 01:00."
   ]
  },
  {
   "cell_type": "markdown",
   "metadata": {},
   "source": [
    "### Traffic for each day of week and hour"
   ]
  },
  {
   "cell_type": "code",
   "execution_count": 97,
   "metadata": {},
   "outputs": [
    {
     "data": {
      "text/html": [
       "<div>\n",
       "<style scoped>\n",
       "    .dataframe tbody tr th:only-of-type {\n",
       "        vertical-align: middle;\n",
       "    }\n",
       "\n",
       "    .dataframe tbody tr th {\n",
       "        vertical-align: top;\n",
       "    }\n",
       "\n",
       "    .dataframe thead th {\n",
       "        text-align: right;\n",
       "    }\n",
       "</style>\n",
       "<table border=\"1\" class=\"dataframe\">\n",
       "  <thead>\n",
       "    <tr style=\"text-align: right;\">\n",
       "      <th>hour</th>\n",
       "      <th>0</th>\n",
       "      <th>1</th>\n",
       "      <th>2</th>\n",
       "      <th>3</th>\n",
       "      <th>4</th>\n",
       "      <th>5</th>\n",
       "      <th>6</th>\n",
       "      <th>7</th>\n",
       "      <th>8</th>\n",
       "      <th>9</th>\n",
       "      <th>...</th>\n",
       "      <th>14</th>\n",
       "      <th>15</th>\n",
       "      <th>16</th>\n",
       "      <th>17</th>\n",
       "      <th>18</th>\n",
       "      <th>19</th>\n",
       "      <th>20</th>\n",
       "      <th>21</th>\n",
       "      <th>22</th>\n",
       "      <th>23</th>\n",
       "    </tr>\n",
       "    <tr>\n",
       "      <th>day of week</th>\n",
       "      <th></th>\n",
       "      <th></th>\n",
       "      <th></th>\n",
       "      <th></th>\n",
       "      <th></th>\n",
       "      <th></th>\n",
       "      <th></th>\n",
       "      <th></th>\n",
       "      <th></th>\n",
       "      <th></th>\n",
       "      <th></th>\n",
       "      <th></th>\n",
       "      <th></th>\n",
       "      <th></th>\n",
       "      <th></th>\n",
       "      <th></th>\n",
       "      <th></th>\n",
       "      <th></th>\n",
       "      <th></th>\n",
       "      <th></th>\n",
       "      <th></th>\n",
       "    </tr>\n",
       "  </thead>\n",
       "  <tbody>\n",
       "    <tr>\n",
       "      <th>Fri</th>\n",
       "      <td>71</td>\n",
       "      <td>54</td>\n",
       "      <td>32</td>\n",
       "      <td>20</td>\n",
       "      <td>34</td>\n",
       "      <td>47</td>\n",
       "      <td>132</td>\n",
       "      <td>253</td>\n",
       "      <td>301</td>\n",
       "      <td>261</td>\n",
       "      <td>...</td>\n",
       "      <td>344</td>\n",
       "      <td>473</td>\n",
       "      <td>489</td>\n",
       "      <td>477</td>\n",
       "      <td>303</td>\n",
       "      <td>237</td>\n",
       "      <td>211</td>\n",
       "      <td>182</td>\n",
       "      <td>167</td>\n",
       "      <td>155</td>\n",
       "    </tr>\n",
       "    <tr>\n",
       "      <th>Mon</th>\n",
       "      <td>65</td>\n",
       "      <td>41</td>\n",
       "      <td>32</td>\n",
       "      <td>36</td>\n",
       "      <td>24</td>\n",
       "      <td>70</td>\n",
       "      <td>120</td>\n",
       "      <td>287</td>\n",
       "      <td>344</td>\n",
       "      <td>276</td>\n",
       "      <td>...</td>\n",
       "      <td>337</td>\n",
       "      <td>413</td>\n",
       "      <td>438</td>\n",
       "      <td>465</td>\n",
       "      <td>365</td>\n",
       "      <td>249</td>\n",
       "      <td>192</td>\n",
       "      <td>171</td>\n",
       "      <td>139</td>\n",
       "      <td>78</td>\n",
       "    </tr>\n",
       "    <tr>\n",
       "      <th>Sat</th>\n",
       "      <td>104</td>\n",
       "      <td>83</td>\n",
       "      <td>65</td>\n",
       "      <td>64</td>\n",
       "      <td>52</td>\n",
       "      <td>50</td>\n",
       "      <td>66</td>\n",
       "      <td>132</td>\n",
       "      <td>134</td>\n",
       "      <td>219</td>\n",
       "      <td>...</td>\n",
       "      <td>315</td>\n",
       "      <td>310</td>\n",
       "      <td>337</td>\n",
       "      <td>286</td>\n",
       "      <td>270</td>\n",
       "      <td>219</td>\n",
       "      <td>179</td>\n",
       "      <td>172</td>\n",
       "      <td>176</td>\n",
       "      <td>156</td>\n",
       "    </tr>\n",
       "    <tr>\n",
       "      <th>Sun</th>\n",
       "      <td>103</td>\n",
       "      <td>83</td>\n",
       "      <td>79</td>\n",
       "      <td>61</td>\n",
       "      <td>69</td>\n",
       "      <td>56</td>\n",
       "      <td>85</td>\n",
       "      <td>111</td>\n",
       "      <td>112</td>\n",
       "      <td>177</td>\n",
       "      <td>...</td>\n",
       "      <td>233</td>\n",
       "      <td>234</td>\n",
       "      <td>232</td>\n",
       "      <td>244</td>\n",
       "      <td>242</td>\n",
       "      <td>184</td>\n",
       "      <td>141</td>\n",
       "      <td>119</td>\n",
       "      <td>109</td>\n",
       "      <td>64</td>\n",
       "    </tr>\n",
       "    <tr>\n",
       "      <th>Thu</th>\n",
       "      <td>77</td>\n",
       "      <td>47</td>\n",
       "      <td>47</td>\n",
       "      <td>17</td>\n",
       "      <td>28</td>\n",
       "      <td>45</td>\n",
       "      <td>142</td>\n",
       "      <td>259</td>\n",
       "      <td>368</td>\n",
       "      <td>326</td>\n",
       "      <td>...</td>\n",
       "      <td>354</td>\n",
       "      <td>428</td>\n",
       "      <td>464</td>\n",
       "      <td>504</td>\n",
       "      <td>308</td>\n",
       "      <td>222</td>\n",
       "      <td>176</td>\n",
       "      <td>168</td>\n",
       "      <td>119</td>\n",
       "      <td>101</td>\n",
       "    </tr>\n",
       "  </tbody>\n",
       "</table>\n",
       "<p>5 rows × 24 columns</p>\n",
       "</div>"
      ],
      "text/plain": [
       "hour          0   1   2   3   4   5    6    7    8    9   ...   14   15   16  \\\n",
       "day of week                                               ...                  \n",
       "Fri           71  54  32  20  34  47  132  253  301  261  ...  344  473  489   \n",
       "Mon           65  41  32  36  24  70  120  287  344  276  ...  337  413  438   \n",
       "Sat          104  83  65  64  52  50   66  132  134  219  ...  315  310  337   \n",
       "Sun          103  83  79  61  69  56   85  111  112  177  ...  233  234  232   \n",
       "Thu           77  47  47  17  28  45  142  259  368  326  ...  354  428  464   \n",
       "\n",
       "hour          17   18   19   20   21   22   23  \n",
       "day of week                                     \n",
       "Fri          477  303  237  211  182  167  155  \n",
       "Mon          465  365  249  192  171  139   78  \n",
       "Sat          286  270  219  179  172  176  156  \n",
       "Sun          244  242  184  141  119  109   64  \n",
       "Thu          504  308  222  176  168  119  101  \n",
       "\n",
       "[5 rows x 24 columns]"
      ]
     },
     "execution_count": 97,
     "metadata": {},
     "output_type": "execute_result"
    }
   ],
   "source": [
    "traffic_day_hour = df[df['reason'] == 'Traffic'].groupby(by=['day of week','hour']).count()['reason'].unstack()\n",
    "traffic_day_hour.head()"
   ]
  },
  {
   "cell_type": "code",
   "execution_count": 98,
   "metadata": {},
   "outputs": [
    {
     "data": {
      "text/plain": [
       "Text(0.5, 1.0, 'Traffic')"
      ]
     },
     "execution_count": 98,
     "metadata": {},
     "output_type": "execute_result"
    },
    {
     "data": {
      "image/png": "[encoded data removed]",
      "text/plain": [
       "<Figure size 864x432 with 2 Axes>"
      ]
     },
     "metadata": {
      "needs_background": "light"
     },
     "output_type": "display_data"
    }
   ],
   "source": [
    "# To set up figure's size\n",
    "plt.figure(figsize=(12,6))\n",
    "\n",
    "sns.heatmap(traffic_day_hour,cmap='viridis', cbar_kws={'label': 'Number of calls'})\n",
    "\n",
    "# To set up a title\n",
    "plt.title('Traffic')"
   ]
  },
  {
   "cell_type": "markdown",
   "metadata": {},
   "source": [
    "Quick knowledge that we can get for *Traffic*:\n",
    "- We can clearly see that the number of calls increase drastically on peak traffic activity times. This would be between 15:00 and 18:00, time where most of people go back to their homes from work.\n",
    "- We can identify also a small increase early in the morning between 06:00 and 09:00, time where most of people drive to schools and work.\n",
    "- There is also a small increase on Fridays and Saturdays in the evening."
   ]
  },
  {
   "cell_type": "markdown",
   "metadata": {},
   "source": [
    "### EMS for each month and day of week"
   ]
  },
  {
   "cell_type": "code",
   "execution_count": 99,
   "metadata": {},
   "outputs": [
    {
     "data": {
      "text/html": [
       "<div>\n",
       "<style scoped>\n",
       "    .dataframe tbody tr th:only-of-type {\n",
       "        vertical-align: middle;\n",
       "    }\n",
       "\n",
       "    .dataframe tbody tr th {\n",
       "        vertical-align: top;\n",
       "    }\n",
       "\n",
       "    .dataframe thead th {\n",
       "        text-align: right;\n",
       "    }\n",
       "</style>\n",
       "<table border=\"1\" class=\"dataframe\">\n",
       "  <thead>\n",
       "    <tr style=\"text-align: right;\">\n",
       "      <th>month</th>\n",
       "      <th>1</th>\n",
       "      <th>2</th>\n",
       "      <th>3</th>\n",
       "      <th>4</th>\n",
       "      <th>5</th>\n",
       "      <th>6</th>\n",
       "      <th>7</th>\n",
       "      <th>8</th>\n",
       "      <th>12</th>\n",
       "    </tr>\n",
       "    <tr>\n",
       "      <th>day of week</th>\n",
       "      <th></th>\n",
       "      <th></th>\n",
       "      <th></th>\n",
       "      <th></th>\n",
       "      <th></th>\n",
       "      <th></th>\n",
       "      <th></th>\n",
       "      <th></th>\n",
       "      <th></th>\n",
       "    </tr>\n",
       "  </thead>\n",
       "  <tbody>\n",
       "    <tr>\n",
       "      <th>Fri</th>\n",
       "      <td>982</td>\n",
       "      <td>765</td>\n",
       "      <td>780</td>\n",
       "      <td>1002</td>\n",
       "      <td>810</td>\n",
       "      <td>778</td>\n",
       "      <td>1040</td>\n",
       "      <td>629</td>\n",
       "      <td>529</td>\n",
       "    </tr>\n",
       "    <tr>\n",
       "      <th>Mon</th>\n",
       "      <td>799</td>\n",
       "      <td>934</td>\n",
       "      <td>789</td>\n",
       "      <td>813</td>\n",
       "      <td>912</td>\n",
       "      <td>797</td>\n",
       "      <td>767</td>\n",
       "      <td>766</td>\n",
       "      <td>663</td>\n",
       "    </tr>\n",
       "    <tr>\n",
       "      <th>Sat</th>\n",
       "      <td>931</td>\n",
       "      <td>721</td>\n",
       "      <td>696</td>\n",
       "      <td>892</td>\n",
       "      <td>725</td>\n",
       "      <td>755</td>\n",
       "      <td>907</td>\n",
       "      <td>578</td>\n",
       "      <td>480</td>\n",
       "    </tr>\n",
       "    <tr>\n",
       "      <th>Sun</th>\n",
       "      <td>969</td>\n",
       "      <td>674</td>\n",
       "      <td>683</td>\n",
       "      <td>693</td>\n",
       "      <td>792</td>\n",
       "      <td>665</td>\n",
       "      <td>913</td>\n",
       "      <td>540</td>\n",
       "      <td>527</td>\n",
       "    </tr>\n",
       "    <tr>\n",
       "      <th>Thu</th>\n",
       "      <td>769</td>\n",
       "      <td>746</td>\n",
       "      <td>973</td>\n",
       "      <td>770</td>\n",
       "      <td>817</td>\n",
       "      <td>973</td>\n",
       "      <td>801</td>\n",
       "      <td>568</td>\n",
       "      <td>576</td>\n",
       "    </tr>\n",
       "  </tbody>\n",
       "</table>\n",
       "</div>"
      ],
      "text/plain": [
       "month         1    2    3     4    5    6     7    8    12\n",
       "day of week                                               \n",
       "Fri          982  765  780  1002  810  778  1040  629  529\n",
       "Mon          799  934  789   813  912  797   767  766  663\n",
       "Sat          931  721  696   892  725  755   907  578  480\n",
       "Sun          969  674  683   693  792  665   913  540  527\n",
       "Thu          769  746  973   770  817  973   801  568  576"
      ]
     },
     "execution_count": 99,
     "metadata": {},
     "output_type": "execute_result"
    }
   ],
   "source": [
    "ems_day_month = df[df['reason'] == 'EMS'].groupby(by=['day of week','month']).count()['reason'].unstack()\n",
    "ems_day_month.head()"
   ]
  },
  {
   "cell_type": "code",
   "execution_count": 100,
   "metadata": {},
   "outputs": [
    {
     "data": {
      "text/plain": [
       "Text(0.5, 1.0, 'EMS')"
      ]
     },
     "execution_count": 100,
     "metadata": {},
     "output_type": "execute_result"
    },
    {
     "data": {
      "image/png": "[encoded data removed]",
      "text/plain": [
       "<Figure size 864x432 with 2 Axes>"
      ]
     },
     "metadata": {
      "needs_background": "light"
     },
     "output_type": "display_data"
    }
   ],
   "source": [
    "# To set up figure's size\n",
    "plt.figure(figsize=(12,6))\n",
    "\n",
    "sns.heatmap(ems_day_month,cmap='viridis', cbar_kws={'label': 'Number of calls'})\n",
    "\n",
    "# To set up a title\n",
    "plt.title('EMS')"
   ]
  },
  {
   "cell_type": "markdown",
   "metadata": {},
   "source": [
    "Quick knowledge that we can get for *EMS*:\n",
    "- We notice that August and December have less calls but this can also be because of data quantity. There is no information between September and November, and maybe for August there is less data as well.\n",
    "\n",
    "It is not easy to identify some good insights for EMS. Maybe we could try to add some clustering to the heatmap..."
   ]
  },
  {
   "cell_type": "code",
   "execution_count": 107,
   "metadata": {},
   "outputs": [
    {
     "data": {
      "text/plain": [
       "Text(0.5, 1.0, 'EMS with Clustering')"
      ]
     },
     "execution_count": 107,
     "metadata": {},
     "output_type": "execute_result"
    },
    {
     "data": {
      "image/png": "[encoded data removed]",
      "text/plain": [
       "<Figure size 720x720 with 4 Axes>"
      ]
     },
     "metadata": {
      "needs_background": "light"
     },
     "output_type": "display_data"
    }
   ],
   "source": [
    "sns.clustermap(ems_day_month,cmap='viridis', cbar_kws={'label': 'Number of calls'})\n",
    "\n",
    "# To set up a title\n",
    "plt.title('EMS with Clustering')"
   ]
  },
  {
   "cell_type": "markdown",
   "metadata": {},
   "source": [
    "From the EMS clustering, we can extract the following:\n",
    "- There are some months that behave similarly:\n",
    "    - January and July.\n",
    "    - March and June.\n",
    "    - February and May.\n",
    "    - August and December (this again could be do to missing/incompleted information)\n",
    "- There are also day that behave similarly:\n",
    "    - Friday and Saturday.\n",
    "    - Wednesday and Thursday.\n",
    "    - Monday and Tuesday."
   ]
  },
  {
   "cell_type": "markdown",
   "metadata": {},
   "source": [
    "### Fire for each month and day of week"
   ]
  },
  {
   "cell_type": "code",
   "execution_count": 101,
   "metadata": {},
   "outputs": [
    {
     "data": {
      "text/html": [
       "<div>\n",
       "<style scoped>\n",
       "    .dataframe tbody tr th:only-of-type {\n",
       "        vertical-align: middle;\n",
       "    }\n",
       "\n",
       "    .dataframe tbody tr th {\n",
       "        vertical-align: top;\n",
       "    }\n",
       "\n",
       "    .dataframe thead th {\n",
       "        text-align: right;\n",
       "    }\n",
       "</style>\n",
       "<table border=\"1\" class=\"dataframe\">\n",
       "  <thead>\n",
       "    <tr style=\"text-align: right;\">\n",
       "      <th>month</th>\n",
       "      <th>1</th>\n",
       "      <th>2</th>\n",
       "      <th>3</th>\n",
       "      <th>4</th>\n",
       "      <th>5</th>\n",
       "      <th>6</th>\n",
       "      <th>7</th>\n",
       "      <th>8</th>\n",
       "      <th>12</th>\n",
       "    </tr>\n",
       "    <tr>\n",
       "      <th>day of week</th>\n",
       "      <th></th>\n",
       "      <th></th>\n",
       "      <th></th>\n",
       "      <th></th>\n",
       "      <th></th>\n",
       "      <th></th>\n",
       "      <th></th>\n",
       "      <th></th>\n",
       "      <th></th>\n",
       "    </tr>\n",
       "  </thead>\n",
       "  <tbody>\n",
       "    <tr>\n",
       "      <th>Fri</th>\n",
       "      <td>255</td>\n",
       "      <td>206</td>\n",
       "      <td>196</td>\n",
       "      <td>280</td>\n",
       "      <td>226</td>\n",
       "      <td>247</td>\n",
       "      <td>285</td>\n",
       "      <td>222</td>\n",
       "      <td>171</td>\n",
       "    </tr>\n",
       "    <tr>\n",
       "      <th>Mon</th>\n",
       "      <td>242</td>\n",
       "      <td>309</td>\n",
       "      <td>228</td>\n",
       "      <td>218</td>\n",
       "      <td>251</td>\n",
       "      <td>245</td>\n",
       "      <td>338</td>\n",
       "      <td>230</td>\n",
       "      <td>143</td>\n",
       "    </tr>\n",
       "    <tr>\n",
       "      <th>Sat</th>\n",
       "      <td>324</td>\n",
       "      <td>238</td>\n",
       "      <td>193</td>\n",
       "      <td>271</td>\n",
       "      <td>221</td>\n",
       "      <td>203</td>\n",
       "      <td>275</td>\n",
       "      <td>191</td>\n",
       "      <td>152</td>\n",
       "    </tr>\n",
       "    <tr>\n",
       "      <th>Sun</th>\n",
       "      <td>349</td>\n",
       "      <td>227</td>\n",
       "      <td>160</td>\n",
       "      <td>292</td>\n",
       "      <td>212</td>\n",
       "      <td>253</td>\n",
       "      <td>276</td>\n",
       "      <td>173</td>\n",
       "      <td>134</td>\n",
       "    </tr>\n",
       "    <tr>\n",
       "      <th>Thu</th>\n",
       "      <td>235</td>\n",
       "      <td>241</td>\n",
       "      <td>256</td>\n",
       "      <td>240</td>\n",
       "      <td>209</td>\n",
       "      <td>321</td>\n",
       "      <td>237</td>\n",
       "      <td>204</td>\n",
       "      <td>193</td>\n",
       "    </tr>\n",
       "  </tbody>\n",
       "</table>\n",
       "</div>"
      ],
      "text/plain": [
       "month         1    2    3    4    5    6    7    8    12\n",
       "day of week                                             \n",
       "Fri          255  206  196  280  226  247  285  222  171\n",
       "Mon          242  309  228  218  251  245  338  230  143\n",
       "Sat          324  238  193  271  221  203  275  191  152\n",
       "Sun          349  227  160  292  212  253  276  173  134\n",
       "Thu          235  241  256  240  209  321  237  204  193"
      ]
     },
     "execution_count": 101,
     "metadata": {},
     "output_type": "execute_result"
    }
   ],
   "source": [
    "fire_day_month = df[df['reason'] == 'Fire'].groupby(by=['day of week','month']).count()['reason'].unstack()\n",
    "fire_day_month.head()"
   ]
  },
  {
   "cell_type": "code",
   "execution_count": 102,
   "metadata": {},
   "outputs": [
    {
     "data": {
      "text/plain": [
       "Text(0.5, 1.0, 'Fire')"
      ]
     },
     "execution_count": 102,
     "metadata": {},
     "output_type": "execute_result"
    },
    {
     "data": {
      "image/png": "[encoded data removed]",
      "text/plain": [
       "<Figure size 864x432 with 2 Axes>"
      ]
     },
     "metadata": {
      "needs_background": "light"
     },
     "output_type": "display_data"
    }
   ],
   "source": [
    "# To set up figure's size\n",
    "plt.figure(figsize=(12,6))\n",
    "\n",
    "sns.heatmap(fire_day_month,cmap='viridis', cbar_kws={'label': 'Number of calls'})\n",
    "\n",
    "# To set up a title\n",
    "plt.title('Fire')"
   ]
  },
  {
   "cell_type": "markdown",
   "metadata": {},
   "source": [
    "Quick knowledge that we can get for *Fire*:\n",
    "- We can see that on January and February, there is an increase on calls. This could be due to the fact that during winter months people try to make their home warmer.\n",
    "- Also, during June and July there is an increase on calls. This could be due to wildfires and heatwaves during summer."
   ]
  },
  {
   "cell_type": "markdown",
   "metadata": {},
   "source": [
    "### Traffic for each month and day of week"
   ]
  },
  {
   "cell_type": "code",
   "execution_count": 103,
   "metadata": {},
   "outputs": [
    {
     "data": {
      "text/html": [
       "<div>\n",
       "<style scoped>\n",
       "    .dataframe tbody tr th:only-of-type {\n",
       "        vertical-align: middle;\n",
       "    }\n",
       "\n",
       "    .dataframe tbody tr th {\n",
       "        vertical-align: top;\n",
       "    }\n",
       "\n",
       "    .dataframe thead th {\n",
       "        text-align: right;\n",
       "    }\n",
       "</style>\n",
       "<table border=\"1\" class=\"dataframe\">\n",
       "  <thead>\n",
       "    <tr style=\"text-align: right;\">\n",
       "      <th>month</th>\n",
       "      <th>1</th>\n",
       "      <th>2</th>\n",
       "      <th>3</th>\n",
       "      <th>4</th>\n",
       "      <th>5</th>\n",
       "      <th>6</th>\n",
       "      <th>7</th>\n",
       "      <th>8</th>\n",
       "      <th>12</th>\n",
       "    </tr>\n",
       "    <tr>\n",
       "      <th>day of week</th>\n",
       "      <th></th>\n",
       "      <th></th>\n",
       "      <th></th>\n",
       "      <th></th>\n",
       "      <th></th>\n",
       "      <th></th>\n",
       "      <th></th>\n",
       "      <th></th>\n",
       "      <th></th>\n",
       "    </tr>\n",
       "  </thead>\n",
       "  <tbody>\n",
       "    <tr>\n",
       "      <th>Fri</th>\n",
       "      <td>733</td>\n",
       "      <td>610</td>\n",
       "      <td>549</td>\n",
       "      <td>676</td>\n",
       "      <td>694</td>\n",
       "      <td>624</td>\n",
       "      <td>720</td>\n",
       "      <td>459</td>\n",
       "      <td>365</td>\n",
       "    </tr>\n",
       "    <tr>\n",
       "      <th>Mon</th>\n",
       "      <td>686</td>\n",
       "      <td>721</td>\n",
       "      <td>518</td>\n",
       "      <td>567</td>\n",
       "      <td>616</td>\n",
       "      <td>575</td>\n",
       "      <td>587</td>\n",
       "      <td>515</td>\n",
       "      <td>451</td>\n",
       "    </tr>\n",
       "    <tr>\n",
       "      <th>Sat</th>\n",
       "      <td>1036</td>\n",
       "      <td>482</td>\n",
       "      <td>377</td>\n",
       "      <td>571</td>\n",
       "      <td>498</td>\n",
       "      <td>430</td>\n",
       "      <td>513</td>\n",
       "      <td>330</td>\n",
       "      <td>346</td>\n",
       "    </tr>\n",
       "    <tr>\n",
       "      <th>Sun</th>\n",
       "      <td>642</td>\n",
       "      <td>328</td>\n",
       "      <td>259</td>\n",
       "      <td>503</td>\n",
       "      <td>420</td>\n",
       "      <td>415</td>\n",
       "      <td>483</td>\n",
       "      <td>308</td>\n",
       "      <td>246</td>\n",
       "    </tr>\n",
       "    <tr>\n",
       "      <th>Thu</th>\n",
       "      <td>580</td>\n",
       "      <td>609</td>\n",
       "      <td>671</td>\n",
       "      <td>591</td>\n",
       "      <td>564</td>\n",
       "      <td>771</td>\n",
       "      <td>608</td>\n",
       "      <td>458</td>\n",
       "      <td>497</td>\n",
       "    </tr>\n",
       "  </tbody>\n",
       "</table>\n",
       "</div>"
      ],
      "text/plain": [
       "month          1    2    3    4    5    6    7    8    12\n",
       "day of week                                              \n",
       "Fri           733  610  549  676  694  624  720  459  365\n",
       "Mon           686  721  518  567  616  575  587  515  451\n",
       "Sat          1036  482  377  571  498  430  513  330  346\n",
       "Sun           642  328  259  503  420  415  483  308  246\n",
       "Thu           580  609  671  591  564  771  608  458  497"
      ]
     },
     "execution_count": 103,
     "metadata": {},
     "output_type": "execute_result"
    }
   ],
   "source": [
    "traffic_day_month = df[df['reason'] == 'Traffic'].groupby(by=['day of week','month']).count()['reason'].unstack()\n",
    "traffic_day_month.head()"
   ]
  },
  {
   "cell_type": "code",
   "execution_count": 104,
   "metadata": {},
   "outputs": [
    {
     "data": {
      "text/plain": [
       "Text(0.5, 1.0, 'Traffic')"
      ]
     },
     "execution_count": 104,
     "metadata": {},
     "output_type": "execute_result"
    },
    {
     "data": {
      "image/png": "[encoded data removed]",
      "text/plain": [
       "<Figure size 864x432 with 2 Axes>"
      ]
     },
     "metadata": {
      "needs_background": "light"
     },
     "output_type": "display_data"
    }
   ],
   "source": [
    "# To set up figure's size\n",
    "plt.figure(figsize=(12,6))\n",
    "\n",
    "sns.heatmap(traffic_day_month,cmap='viridis', cbar_kws={'label': 'Number of calls'})\n",
    "\n",
    "# To set up a title\n",
    "plt.title('Traffic')"
   ]
  },
  {
   "cell_type": "markdown",
   "metadata": {},
   "source": [
    "Quick knowledge that we can get for *Traffic*:\n",
    "- There is a clear peak on Saturdays during January.\n",
    "- During the year, Tuesdays seem to be the day where most of calls get made.\n",
    "\n",
    "Let's see if we can get some more information applying clustering..."
   ]
  },
  {
   "cell_type": "code",
   "execution_count": 108,
   "metadata": {},
   "outputs": [
    {
     "data": {
      "text/plain": [
       "Text(0.5, 1.0, 'Traffic with Clustering')"
      ]
     },
     "execution_count": 108,
     "metadata": {},
     "output_type": "execute_result"
    },
    {
     "data": {
      "image/png": "[encoded data removed]",
      "text/plain": [
       "<Figure size 720x720 with 4 Axes>"
      ]
     },
     "metadata": {
      "needs_background": "light"
     },
     "output_type": "display_data"
    }
   ],
   "source": [
    "sns.clustermap(traffic_day_month,cmap='viridis', cbar_kws={'label': 'Number of calls'})\n",
    "\n",
    "# To set up a title\n",
    "plt.title('Traffic with Clustering')"
   ]
  },
  {
   "cell_type": "markdown",
   "metadata": {},
   "source": [
    "Quick knowledge that we can get for *Traffic*:\n",
    "- Once again, we find some days that behave similarly:\n",
    "    - Saturday and Sunday.\n",
    "    - Monday and Friday.\n",
    "    - Wednesday and Thursday."
   ]
  },
  {
   "cell_type": "markdown",
   "metadata": {},
   "source": [
    "## Last words"
   ]
  },
  {
   "cell_type": "markdown",
   "metadata": {},
   "source": [
    "If you have made it all the way until this point, awesome!\n",
    "\n",
    "I wanted to do some small work using Pandas, and Seaborn so I won't forget some concepts, and won't lose some skills!\n",
    "\n",
    "Thanks for taking the time to go through this simple Notebook, and if you have any feedback or comments, you can contact me via Email: jaimefvs@gmail.com"
   ]
  },
  {
   "cell_type": "code",
   "execution_count": null,
   "metadata": {},
   "outputs": [],
   "source": []
  }
 ],
 "metadata": {
  "kernelspec": {
   "display_name": "Python 3",
   "language": "python",
   "name": "python3"
  },
  "language_info": {
   "codemirror_mode": {
    "name": "ipython",
    "version": 3
   },
   "file_extension": ".py",
   "mimetype": "text/x-python",
   "name": "python",
   "nbconvert_exporter": "python",
   "pygments_lexer": "ipython3",
   "version": "3.8.5"
  }
 },
 "nbformat": 4,
 "nbformat_minor": 4
}
